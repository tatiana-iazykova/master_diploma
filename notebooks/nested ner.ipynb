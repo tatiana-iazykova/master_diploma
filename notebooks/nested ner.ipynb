{
 "cells": [
  {
   "cell_type": "code",
   "execution_count": 1,
   "id": "939b4371",
   "metadata": {},
   "outputs": [],
   "source": [
    "import pandas as pd\n",
    "import ast\n",
    "from tqdm import tqdm\n",
    "import spacy\n",
    "import os\n",
    "from sklearn.model_selection import train_test_split\n",
    "tqdm.pandas()"
   ]
  },
  {
   "cell_type": "code",
   "execution_count": 2,
   "id": "30bbb6a7",
   "metadata": {},
   "outputs": [],
   "source": [
    "df = pd.read_csv('project-5-at-2022-03-25-08-26-0715cfef.csv')"
   ]
  },
  {
   "cell_type": "code",
   "execution_count": 3,
   "id": "780b161a",
   "metadata": {},
   "outputs": [
    {
     "data": {
      "text/plain": [
       "65"
      ]
     },
     "execution_count": 3,
     "metadata": {},
     "output_type": "execute_result"
    }
   ],
   "source": [
    "df.pmcs.nunique()"
   ]
  },
  {
   "cell_type": "code",
   "execution_count": 3,
   "id": "a026788a",
   "metadata": {},
   "outputs": [
    {
     "data": {
      "text/html": [
       "<div>\n",
       "<style scoped>\n",
       "    .dataframe tbody tr th:only-of-type {\n",
       "        vertical-align: middle;\n",
       "    }\n",
       "\n",
       "    .dataframe tbody tr th {\n",
       "        vertical-align: top;\n",
       "    }\n",
       "\n",
       "    .dataframe thead th {\n",
       "        text-align: right;\n",
       "    }\n",
       "</style>\n",
       "<table border=\"1\" class=\"dataframe\">\n",
       "  <thead>\n",
       "    <tr style=\"text-align: right;\">\n",
       "      <th></th>\n",
       "      <th>pmcs</th>\n",
       "      <th>patient_description</th>\n",
       "      <th>id</th>\n",
       "      <th>label</th>\n",
       "      <th>annotator</th>\n",
       "      <th>annotation_id</th>\n",
       "      <th>created_at</th>\n",
       "      <th>updated_at</th>\n",
       "      <th>lead_time</th>\n",
       "    </tr>\n",
       "  </thead>\n",
       "  <tbody>\n",
       "    <tr>\n",
       "      <th>0</th>\n",
       "      <td>PMC7748374</td>\n",
       "      <td>A 36-year-old woman presented with nausea, cou...</td>\n",
       "      <td>213</td>\n",
       "      <td>[{\"start\": 2, \"end\": 4, \"text\": \"36\", \"labels\"...</td>\n",
       "      <td>1</td>\n",
       "      <td>206</td>\n",
       "      <td>2022-03-23T08:24:48.857188Z</td>\n",
       "      <td>2022-03-23T08:24:57.759694Z</td>\n",
       "      <td>406854.459</td>\n",
       "    </tr>\n",
       "    <tr>\n",
       "      <th>1</th>\n",
       "      <td>PMC7337161</td>\n",
       "      <td>The patient was a 75-year-old woman with a his...</td>\n",
       "      <td>193</td>\n",
       "      <td>[{\"start\": 18, \"end\": 20, \"text\": \"75\", \"label...</td>\n",
       "      <td>1</td>\n",
       "      <td>186</td>\n",
       "      <td>2022-03-22T16:56:33.265823Z</td>\n",
       "      <td>2022-03-22T16:58:07.616745Z</td>\n",
       "      <td>351244.332</td>\n",
       "    </tr>\n",
       "    <tr>\n",
       "      <th>2</th>\n",
       "      <td>PMC7521458</td>\n",
       "      <td>A 31-year-old woman with ALD was admitted to o...</td>\n",
       "      <td>168</td>\n",
       "      <td>[{\"start\": 2, \"end\": 4, \"text\": \"31\", \"labels\"...</td>\n",
       "      <td>1</td>\n",
       "      <td>161</td>\n",
       "      <td>2022-03-17T13:29:21.066643Z</td>\n",
       "      <td>2022-03-18T15:21:17.945825Z</td>\n",
       "      <td>701.958</td>\n",
       "    </tr>\n",
       "    <tr>\n",
       "      <th>3</th>\n",
       "      <td>PMC7782106</td>\n",
       "      <td>A 34-year-old male with a known history of alc...</td>\n",
       "      <td>166</td>\n",
       "      <td>[{\"start\": 14, \"end\": 18, \"text\": \"male\", \"lab...</td>\n",
       "      <td>1</td>\n",
       "      <td>159</td>\n",
       "      <td>2022-03-14T15:56:53.178265Z</td>\n",
       "      <td>2022-03-14T21:15:11.220487Z</td>\n",
       "      <td>2414.577</td>\n",
       "    </tr>\n",
       "    <tr>\n",
       "      <th>4</th>\n",
       "      <td>PMC7782106</td>\n",
       "      <td>A 32-year-old male with a past medical history...</td>\n",
       "      <td>165</td>\n",
       "      <td>[{\"start\": 14, \"end\": 18, \"text\": \"male\", \"lab...</td>\n",
       "      <td>1</td>\n",
       "      <td>158</td>\n",
       "      <td>2022-03-14T15:09:24.876761Z</td>\n",
       "      <td>2022-03-14T21:12:06.952800Z</td>\n",
       "      <td>2230.298</td>\n",
       "    </tr>\n",
       "  </tbody>\n",
       "</table>\n",
       "</div>"
      ],
      "text/plain": [
       "         pmcs                                patient_description   id  \\\n",
       "0  PMC7748374  A 36-year-old woman presented with nausea, cou...  213   \n",
       "1  PMC7337161  The patient was a 75-year-old woman with a his...  193   \n",
       "2  PMC7521458  A 31-year-old woman with ALD was admitted to o...  168   \n",
       "3  PMC7782106  A 34-year-old male with a known history of alc...  166   \n",
       "4  PMC7782106  A 32-year-old male with a past medical history...  165   \n",
       "\n",
       "                                               label  annotator  \\\n",
       "0  [{\"start\": 2, \"end\": 4, \"text\": \"36\", \"labels\"...          1   \n",
       "1  [{\"start\": 18, \"end\": 20, \"text\": \"75\", \"label...          1   \n",
       "2  [{\"start\": 2, \"end\": 4, \"text\": \"31\", \"labels\"...          1   \n",
       "3  [{\"start\": 14, \"end\": 18, \"text\": \"male\", \"lab...          1   \n",
       "4  [{\"start\": 14, \"end\": 18, \"text\": \"male\", \"lab...          1   \n",
       "\n",
       "   annotation_id                   created_at                   updated_at  \\\n",
       "0            206  2022-03-23T08:24:48.857188Z  2022-03-23T08:24:57.759694Z   \n",
       "1            186  2022-03-22T16:56:33.265823Z  2022-03-22T16:58:07.616745Z   \n",
       "2            161  2022-03-17T13:29:21.066643Z  2022-03-18T15:21:17.945825Z   \n",
       "3            159  2022-03-14T15:56:53.178265Z  2022-03-14T21:15:11.220487Z   \n",
       "4            158  2022-03-14T15:09:24.876761Z  2022-03-14T21:12:06.952800Z   \n",
       "\n",
       "    lead_time  \n",
       "0  406854.459  \n",
       "1  351244.332  \n",
       "2     701.958  \n",
       "3    2414.577  \n",
       "4    2230.298  "
      ]
     },
     "execution_count": 3,
     "metadata": {},
     "output_type": "execute_result"
    }
   ],
   "source": [
    "df.head()"
   ]
  },
  {
   "cell_type": "code",
   "execution_count": 4,
   "id": "f44359e5",
   "metadata": {},
   "outputs": [],
   "source": [
    "tmp = df.label.apply(ast.literal_eval)\n",
    "tmp = tmp.to_list()"
   ]
  },
  {
   "cell_type": "code",
   "execution_count": 5,
   "id": "049cf16d",
   "metadata": {},
   "outputs": [],
   "source": [
    "def create_tuples(markup):\n",
    "    \n",
    "    value = ast.literal_eval(markup)\n",
    "    \n",
    "    entity_list = []\n",
    "\n",
    "    for element in value:\n",
    "\n",
    "        tup = (element['start'], element['end'], element['labels'][0])\n",
    "        entity_list.append(tup)\n",
    "            \n",
    "    return entity_list"
   ]
  },
  {
   "cell_type": "code",
   "execution_count": 6,
   "id": "d0d4ff53",
   "metadata": {},
   "outputs": [],
   "source": [
    "df['markup'] = df.label.apply(create_tuples)"
   ]
  },
  {
   "cell_type": "code",
   "execution_count": 7,
   "id": "6c0235f9",
   "metadata": {},
   "outputs": [],
   "source": [
    "df_short = df[['pmcs', 'patient_description', 'markup']]"
   ]
  },
  {
   "cell_type": "code",
   "execution_count": 8,
   "id": "b75d7d33",
   "metadata": {},
   "outputs": [
    {
     "data": {
      "text/html": [
       "<div>\n",
       "<style scoped>\n",
       "    .dataframe tbody tr th:only-of-type {\n",
       "        vertical-align: middle;\n",
       "    }\n",
       "\n",
       "    .dataframe tbody tr th {\n",
       "        vertical-align: top;\n",
       "    }\n",
       "\n",
       "    .dataframe thead th {\n",
       "        text-align: right;\n",
       "    }\n",
       "</style>\n",
       "<table border=\"1\" class=\"dataframe\">\n",
       "  <thead>\n",
       "    <tr style=\"text-align: right;\">\n",
       "      <th></th>\n",
       "      <th>pmcs</th>\n",
       "      <th>patient_description</th>\n",
       "      <th>markup</th>\n",
       "    </tr>\n",
       "  </thead>\n",
       "  <tbody>\n",
       "    <tr>\n",
       "      <th>0</th>\n",
       "      <td>PMC7748374</td>\n",
       "      <td>A 36-year-old woman presented with nausea, cou...</td>\n",
       "      <td>[(2, 4, Age), (14, 19, Sex), (35, 41, Clinical...</td>\n",
       "    </tr>\n",
       "    <tr>\n",
       "      <th>1</th>\n",
       "      <td>PMC7337161</td>\n",
       "      <td>The patient was a 75-year-old woman with a his...</td>\n",
       "      <td>[(18, 20, Age), (30, 35, Sex), (54, 62, Clinic...</td>\n",
       "    </tr>\n",
       "    <tr>\n",
       "      <th>2</th>\n",
       "      <td>PMC7521458</td>\n",
       "      <td>A 31-year-old woman with ALD was admitted to o...</td>\n",
       "      <td>[(2, 4, Age), (14, 19, Sex), (25, 28, Clinical...</td>\n",
       "    </tr>\n",
       "    <tr>\n",
       "      <th>3</th>\n",
       "      <td>PMC7782106</td>\n",
       "      <td>A 34-year-old male with a known history of alc...</td>\n",
       "      <td>[(14, 18, Sex), (43, 62, Clinical characterist...</td>\n",
       "    </tr>\n",
       "    <tr>\n",
       "      <th>4</th>\n",
       "      <td>PMC7782106</td>\n",
       "      <td>A 32-year-old male with a past medical history...</td>\n",
       "      <td>[(14, 18, Sex), (50, 69, Clinical characterist...</td>\n",
       "    </tr>\n",
       "    <tr>\n",
       "      <th>...</th>\n",
       "      <td>...</td>\n",
       "      <td>...</td>\n",
       "      <td>...</td>\n",
       "    </tr>\n",
       "    <tr>\n",
       "      <th>241</th>\n",
       "      <td>PMC7365853</td>\n",
       "      <td>A 74-year-old woman with a history of remote b...</td>\n",
       "      <td>[(2, 4, Age), (14, 19, Sex), (38, 179, Clinica...</td>\n",
       "    </tr>\n",
       "    <tr>\n",
       "      <th>242</th>\n",
       "      <td>PMC7126798</td>\n",
       "      <td>In the fourth case, the patient was a 73 year-...</td>\n",
       "      <td>[(38, 40, Age), (50, 56, Sex), (75, 89, Clinic...</td>\n",
       "    </tr>\n",
       "    <tr>\n",
       "      <th>243</th>\n",
       "      <td>PMC7126798</td>\n",
       "      <td>In the third case, a 29 year-old housekeeper f...</td>\n",
       "      <td>[(21, 23, Age), (45, 51, Sex), (70, 96, Clinic...</td>\n",
       "    </tr>\n",
       "    <tr>\n",
       "      <th>244</th>\n",
       "      <td>PMC7126798</td>\n",
       "      <td>In the second case, a 61 year-old female with ...</td>\n",
       "      <td>[(22, 24, Age), (34, 40, Sex), (46, 63, Clinic...</td>\n",
       "    </tr>\n",
       "    <tr>\n",
       "      <th>245</th>\n",
       "      <td>PMC7126798</td>\n",
       "      <td>In the first case, a 39 year-old male, health ...</td>\n",
       "      <td>[(21, 23, Age), (33, 37, Sex), (75, 113, Clini...</td>\n",
       "    </tr>\n",
       "  </tbody>\n",
       "</table>\n",
       "<p>246 rows × 3 columns</p>\n",
       "</div>"
      ],
      "text/plain": [
       "           pmcs                                patient_description  \\\n",
       "0    PMC7748374  A 36-year-old woman presented with nausea, cou...   \n",
       "1    PMC7337161  The patient was a 75-year-old woman with a his...   \n",
       "2    PMC7521458  A 31-year-old woman with ALD was admitted to o...   \n",
       "3    PMC7782106  A 34-year-old male with a known history of alc...   \n",
       "4    PMC7782106  A 32-year-old male with a past medical history...   \n",
       "..          ...                                                ...   \n",
       "241  PMC7365853  A 74-year-old woman with a history of remote b...   \n",
       "242  PMC7126798  In the fourth case, the patient was a 73 year-...   \n",
       "243  PMC7126798  In the third case, a 29 year-old housekeeper f...   \n",
       "244  PMC7126798  In the second case, a 61 year-old female with ...   \n",
       "245  PMC7126798  In the first case, a 39 year-old male, health ...   \n",
       "\n",
       "                                                markup  \n",
       "0    [(2, 4, Age), (14, 19, Sex), (35, 41, Clinical...  \n",
       "1    [(18, 20, Age), (30, 35, Sex), (54, 62, Clinic...  \n",
       "2    [(2, 4, Age), (14, 19, Sex), (25, 28, Clinical...  \n",
       "3    [(14, 18, Sex), (43, 62, Clinical characterist...  \n",
       "4    [(14, 18, Sex), (50, 69, Clinical characterist...  \n",
       "..                                                 ...  \n",
       "241  [(2, 4, Age), (14, 19, Sex), (38, 179, Clinica...  \n",
       "242  [(38, 40, Age), (50, 56, Sex), (75, 89, Clinic...  \n",
       "243  [(21, 23, Age), (45, 51, Sex), (70, 96, Clinic...  \n",
       "244  [(22, 24, Age), (34, 40, Sex), (46, 63, Clinic...  \n",
       "245  [(21, 23, Age), (33, 37, Sex), (75, 113, Clini...  \n",
       "\n",
       "[246 rows x 3 columns]"
      ]
     },
     "execution_count": 8,
     "metadata": {},
     "output_type": "execute_result"
    }
   ],
   "source": [
    "df_short"
   ]
  },
  {
   "cell_type": "code",
   "execution_count": 44,
   "id": "10163664",
   "metadata": {},
   "outputs": [
    {
     "data": {
      "text/plain": [
       "246"
      ]
     },
     "execution_count": 44,
     "metadata": {},
     "output_type": "execute_result"
    }
   ],
   "source": [
    "len(df_short)"
   ]
  },
  {
   "cell_type": "code",
   "execution_count": 16,
   "id": "6344d655",
   "metadata": {},
   "outputs": [],
   "source": [
    "m = df_short.markup.iloc[0]"
   ]
  },
  {
   "cell_type": "code",
   "execution_count": 36,
   "id": "9db1abc5",
   "metadata": {},
   "outputs": [],
   "source": [
    "pairs = []\n",
    "for m in df_short.markup.to_list():\n",
    "    m = sorted(m, key=lambda x: x[0])\n",
    "    i_0 = m[0]\n",
    "    for i in m[1:]:\n",
    "        if i_0[1] >= i[0] and i_0[2] != i[2]:\n",
    "            pairs.append((i_0[2], i[2]))\n",
    "        i_0 = i"
   ]
  },
  {
   "cell_type": "code",
   "execution_count": 37,
   "id": "6d7712f2",
   "metadata": {},
   "outputs": [],
   "source": [
    "cnt = 0\n",
    "for m in df_short.markup.to_list():\n",
    "\n",
    "    for i in m:\n",
    "        cnt +=1 \n"
   ]
  },
  {
   "cell_type": "code",
   "execution_count": 38,
   "id": "e5d3dea4",
   "metadata": {},
   "outputs": [
    {
     "data": {
      "text/plain": [
       "(80, 6477)"
      ]
     },
     "execution_count": 38,
     "metadata": {},
     "output_type": "execute_result"
    }
   ],
   "source": [
    "len(pairs), cnt"
   ]
  },
  {
   "cell_type": "code",
   "execution_count": 40,
   "id": "ebfa14f8",
   "metadata": {},
   "outputs": [],
   "source": [
    "p = list(set(pairs))"
   ]
  },
  {
   "cell_type": "code",
   "execution_count": 41,
   "id": "bdc99414",
   "metadata": {},
   "outputs": [
    {
     "data": {
      "text/plain": [
       "46"
      ]
     },
     "execution_count": 41,
     "metadata": {},
     "output_type": "execute_result"
    }
   ],
   "source": [
    "len(p)"
   ]
  },
  {
   "cell_type": "code",
   "execution_count": 43,
   "id": "65707811",
   "metadata": {},
   "outputs": [
    {
     "data": {
      "text/plain": [
       "[(('Clinical characteristics', 'Highest temperature, °C'), 7),\n",
       " (('CT', 'Comorbidities'), 6),\n",
       " (('Oxygen therapy', 'Mechanical Ventilator Status'), 5),\n",
       " (('D-Dimer', 'C-reactive protein, mg/dL'), 3),\n",
       " (('Lactate dehydrogenase', 'D-Dimer'), 3),\n",
       " (('C-reactive protein, mg/dL', 'Erythrocyte sedimentation rate (ESR)'), 3),\n",
       " (('Fibrinogen', 'D-Dimer'), 3),\n",
       " (('Comorbidities', 'Laboratory findings'), 3),\n",
       " (('Troponin I', 'Creatinine mg/dl'), 2),\n",
       " (('Creatinine mg/dl', 'Laboratory findings'), 2),\n",
       " (('Ferritin', 'Lactate dehydrogenase'), 2),\n",
       " (('Laboratory findings', 'Comorbidities'), 2),\n",
       " (('X-Ray', 'Comorbidities'), 2),\n",
       " (('Laboratory findings', 'Troponin I'), 2),\n",
       " (('Erythrocyte sedimentation rate (ESR)', 'Ferritin'), 2),\n",
       " (('Mechanical Ventilator Status', 'Oxygen therapy'), 2),\n",
       " (('X-Ray', 'CT'), 2),\n",
       " (('Ferritin', 'D-Dimer'), 1),\n",
       " (('C-reactive protein, mg/dL', 'Lactate dehydrogenase'), 1),\n",
       " (('C-reactive protein, mg/dL', 'Ferritin'), 1),\n",
       " (('D-Dimer', 'Ferritin'), 1),\n",
       " (('Ferritin', 'C-reactive protein, mg/dL'), 1),\n",
       " (('Erythrocyte sedimentation rate (ESR)', 'Lactate dehydrogenase'), 1),\n",
       " (('Lactate dehydrogenase', 'Fibrinogen'), 1),\n",
       " (('Ferritin', 'Platelet'), 1),\n",
       " (('Clinical characteristics', 'BMI'), 1),\n",
       " (('Laboratory findings', 'Clinical characteristics'), 1),\n",
       " (('Laboratory findings', 'Aspartate aminotransferase'), 1),\n",
       " (('Aspartate aminotransferase', 'Alanine aminotransferase'), 1),\n",
       " (('C-reactive protein, mg/dL', 'D-Dimer'), 1),\n",
       " (('D-Dimer', 'Laboratory findings'), 1),\n",
       " (('IL-6', 'Laboratory findings'), 1),\n",
       " (('C-reactive protein, mg/dL', 'IL-6'), 1),\n",
       " (('Lymphocytes', 'Laboratory findings'), 1),\n",
       " (('Creatinine mg/dl', 'Creatine kinase'), 1),\n",
       " (('C-reactive protein, mg/dL', 'Laboratory findings'), 1),\n",
       " (('Laboratory findings', 'C-reactive protein, mg/dL'), 1),\n",
       " (('Ferritin', 'Fibrinogen'), 1),\n",
       " (('Ferritin', 'Laboratory findings'), 1),\n",
       " (('Laboratory findings', 'Fibrinogen'), 1),\n",
       " (('MRI Findings', 'Comorbidities'), 1),\n",
       " (('Oxygen saturation', 'Oxygen therapy'), 1),\n",
       " (('Mechanical Ventilator Status', 'Comorbidities'), 1),\n",
       " (('Highest temperature, °C', 'Clinical characteristics'), 1),\n",
       " (('Oxygen therapy', 'Comorbidities'), 1),\n",
       " (('Comorbidities', 'Oxygen saturation'), 1)]"
      ]
     },
     "execution_count": 43,
     "metadata": {},
     "output_type": "execute_result"
    }
   ],
   "source": [
    "from collections import Counter\n",
    "\n",
    "Counter(pairs).most_common()"
   ]
  },
  {
   "cell_type": "code",
   "execution_count": 12,
   "id": "d94912ba",
   "metadata": {},
   "outputs": [],
   "source": [
    "df_short.to_excel('thesis_dataframe.xlsx', engine='openpyxl', index=False)"
   ]
  },
  {
   "cell_type": "code",
   "execution_count": 13,
   "id": "3de9a6ee",
   "metadata": {},
   "outputs": [],
   "source": [
    "def get_relevant_entity(text, labels):\n",
    "    res = {}\n",
    "#     labels = literal_eval(labels)\n",
    "    if labels:\n",
    "        for ent in labels:        \n",
    "            entity = text[ent[0]:ent[1]]\n",
    "            entity = entity.strip()\n",
    "\n",
    "            if ent[2] not in res:\n",
    "                res[ent[2]] = [entity]\n",
    "            else:\n",
    "                res[ent[2]].append(entity)\n",
    "    return res"
   ]
  },
  {
   "cell_type": "code",
   "execution_count": 11,
   "id": "8891e588",
   "metadata": {},
   "outputs": [
    {
     "name": "stderr",
     "output_type": "stream",
     "text": [
      "100%|██████████| 246/246 [00:00<00:00, 33101.24it/s]\n",
      "/home/user/conda/lib/python3.7/site-packages/ipykernel_launcher.py:4: SettingWithCopyWarning: \n",
      "A value is trying to be set on a copy of a slice from a DataFrame.\n",
      "Try using .loc[row_indexer,col_indexer] = value instead\n",
      "\n",
      "See the caveats in the documentation: https://pandas.pydata.org/pandas-docs/stable/user_guide/indexing.html#returning-a-view-versus-a-copy\n",
      "  after removing the cwd from sys.path.\n"
     ]
    }
   ],
   "source": [
    "df_short['ners_true'] = df_short.progress_apply(lambda x: get_relevant_entity(\n",
    "    text=x['patient_description'], \n",
    "    labels=x['markup']\n",
    "), axis=1)"
   ]
  },
  {
   "cell_type": "code",
   "execution_count": 12,
   "id": "a9eda60a",
   "metadata": {},
   "outputs": [],
   "source": [
    "train, valid = train_test_split(df_short, test_size=0.3, random_state=42)"
   ]
  },
  {
   "cell_type": "code",
   "execution_count": 53,
   "id": "eb0f1c17",
   "metadata": {},
   "outputs": [],
   "source": [
    "path = \"./data_thesis_for_spacy_txc\"\n",
    "os.makedirs(path, exist_ok=True)"
   ]
  },
  {
   "cell_type": "code",
   "execution_count": 46,
   "id": "72134861",
   "metadata": {},
   "outputs": [
    {
     "name": "stderr",
     "output_type": "stream",
     "text": [
      "100%|██████████| 172/172 [00:00<00:00, 24787.67it/s]\n"
     ]
    }
   ],
   "source": [
    "training_data = []\n",
    "\n",
    "for index, row in tqdm(train.iterrows(), total=len(train)):\n",
    "    line = row['patient_description']\n",
    "    ners = row['markup']#literal_eval(row['glued_markup'])\n",
    "    training_data.append((line, ners))"
   ]
  },
  {
   "cell_type": "code",
   "execution_count": 47,
   "id": "53af048f",
   "metadata": {},
   "outputs": [
    {
     "name": "stderr",
     "output_type": "stream",
     "text": [
      "100%|██████████| 74/74 [00:00<00:00, 23368.36it/s]\n"
     ]
    }
   ],
   "source": [
    "valid_data = []\n",
    "\n",
    "for index, row in tqdm(valid.iterrows(), total=len(valid)):\n",
    "    line = row['patient_description']\n",
    "    ners = row['markup']#literal_eval(row['glued_markup'])\n",
    "    valid_data.append((line, ners))"
   ]
  },
  {
   "cell_type": "code",
   "execution_count": 64,
   "id": "219a7654",
   "metadata": {},
   "outputs": [
    {
     "name": "stderr",
     "output_type": "stream",
     "text": [
      "100%|██████████| 172/172 [00:00<00:00, 465.41it/s]\n"
     ]
    }
   ],
   "source": [
    "from spacy.tokens import DocBin\n",
    "\n",
    "nlp = spacy.blank(\"ru\")\n",
    "\n",
    "# the DocBin will store the example documents\n",
    "db = DocBin()\n",
    "for text, annotations in tqdm(training_data):\n",
    "     \n",
    "    if type(text) == str:\n",
    "        doc = nlp(text)\n",
    "        ents = []\n",
    "        if len(annotations):\n",
    "            for start, end, label in annotations:\n",
    "                t = text[start:end]\n",
    "                if t:\n",
    "                    span = doc.char_span(start, end, label=label)\n",
    "                    if span:\n",
    "                        ents.append(span)\n",
    "#         doc.ents = ents\n",
    "# span_lst is now a list of spaCy `Span` objects\n",
    "        # Set the Spans as document entities\n",
    "#         doc.set_ents(ents)\n",
    "        # Set the document entities as spans\n",
    "        doc.spans['txs'] = ents\n",
    "        db.add(doc)\n",
    "    else:\n",
    "        print(text, annotations)\n",
    "        \n",
    "#     break\n",
    "db.to_disk(f\"{path}/train.spacy\")"
   ]
  },
  {
   "cell_type": "code",
   "execution_count": 66,
   "id": "aba3a38b",
   "metadata": {},
   "outputs": [],
   "source": [
    "db = DocBin()\n",
    "for text, annotations in valid_data:\n",
    "    if type(text) == str:\n",
    "        doc = nlp(text)\n",
    "        ents = []\n",
    "        if len(annotations):\n",
    "            for start, end, label in annotations:\n",
    "                t = text[start:end]\n",
    "                if t:\n",
    "                    span = doc.char_span(start, end, label=label)\n",
    "                    if span:\n",
    "                        ents.append(span)\n",
    "#         doc.set_ents(ents)\n",
    "        # Set the document entities as spans\n",
    "        doc.spans['txs'] = ents\n",
    "\n",
    "        db.add(doc)\n",
    "    else:\n",
    "        print(text, annotations)\n",
    "db.to_disk(f\"{path}/valid.spacy\")"
   ]
  },
  {
   "cell_type": "code",
   "execution_count": 24,
   "id": "78f6a50f",
   "metadata": {},
   "outputs": [],
   "source": [
    "true_labels = set()\n",
    "for markup in valid['markup'].to_list():\n",
    "    for m in markup:\n",
    "        true_labels.add(m[2])"
   ]
  },
  {
   "cell_type": "code",
   "execution_count": 26,
   "id": "2ab70716",
   "metadata": {},
   "outputs": [],
   "source": [
    "def get_label_set(nlp):\n",
    "    labels = set()\n",
    "\n",
    "    for text in tqdm(valid[\"patient_description\"].tolist()):\n",
    "\n",
    "        doc = nlp(text)\n",
    "\n",
    "        e = doc.spans['txs']\n",
    "\n",
    "\n",
    "        for i in e:\n",
    "\n",
    "            labels.add(i.label_)\n",
    "    \n",
    "    print(f'Found {len(labels)} out of {len(true_labels)}')\n",
    "    return labels\n"
   ]
  },
  {
   "cell_type": "code",
   "execution_count": 28,
   "id": "6403e0a5",
   "metadata": {},
   "outputs": [
    {
     "name": "stderr",
     "output_type": "stream",
     "text": [
      "100%|██████████| 74/74 [00:08<00:00,  8.44it/s]"
     ]
    },
    {
     "name": "stdout",
     "output_type": "stream",
     "text": [
      "Found 9 out of 43\n"
     ]
    },
    {
     "name": "stderr",
     "output_type": "stream",
     "text": [
      "\n"
     ]
    },
    {
     "data": {
      "text/plain": [
       "{'COVID-19 medication',\n",
       " 'Clinical characteristics',\n",
       " 'Comorbidities',\n",
       " 'Death',\n",
       " 'Highest temperature, °C',\n",
       " 'Laboratory findings',\n",
       " 'Oxygen saturation',\n",
       " 'Sex',\n",
       " 'Therapy'}"
      ]
     },
     "execution_count": 28,
     "metadata": {},
     "output_type": "execute_result"
    }
   ],
   "source": [
    "nlp = spacy.load(\"data_thesis_for_spacy_txc/cpu/model-best\")\n",
    "get_label_set(nlp)"
   ]
  },
  {
   "cell_type": "code",
   "execution_count": 30,
   "id": "285d493f",
   "metadata": {},
   "outputs": [
    {
     "name": "stderr",
     "output_type": "stream",
     "text": [
      "100%|██████████| 74/74 [00:54<00:00,  1.37it/s]"
     ]
    },
    {
     "name": "stdout",
     "output_type": "stream",
     "text": [
      "Found 9 out of 43\n"
     ]
    },
    {
     "name": "stderr",
     "output_type": "stream",
     "text": [
      "\n"
     ]
    },
    {
     "data": {
      "text/plain": [
       "{'COVID-19 medication',\n",
       " 'Clinical characteristics',\n",
       " 'Comorbidities',\n",
       " 'Death',\n",
       " 'Highest temperature, °C',\n",
       " 'Laboratory findings',\n",
       " 'Oxygen saturation',\n",
       " 'Sex',\n",
       " 'Therapy'}"
      ]
     },
     "execution_count": 30,
     "metadata": {},
     "output_type": "execute_result"
    }
   ],
   "source": [
    "nlp = spacy.load(\"data_thesis_for_spacy_txc/bert/model-best\")\n",
    "get_label_set(nlp)"
   ]
  },
  {
   "cell_type": "code",
   "execution_count": 32,
   "id": "540e92d8",
   "metadata": {},
   "outputs": [
    {
     "name": "stderr",
     "output_type": "stream",
     "text": [
      "100%|██████████| 74/74 [00:56<00:00,  1.31it/s]"
     ]
    },
    {
     "name": "stdout",
     "output_type": "stream",
     "text": [
      "Found 10 out of 43\n"
     ]
    },
    {
     "name": "stderr",
     "output_type": "stream",
     "text": [
      "\n"
     ]
    },
    {
     "data": {
      "text/plain": [
       "{'COVID-19 medication',\n",
       " 'Clinical characteristics',\n",
       " 'Comorbidities',\n",
       " 'Death',\n",
       " 'Highest temperature, °C',\n",
       " 'Laboratory findings',\n",
       " 'Mechanical Ventilator Status',\n",
       " 'Oxygen saturation',\n",
       " 'Sex',\n",
       " 'Therapy'}"
      ]
     },
     "execution_count": 32,
     "metadata": {},
     "output_type": "execute_result"
    }
   ],
   "source": [
    "nlp = spacy.load(\"data_thesis_for_spacy_txc/clinicalbert/model-best\")\n",
    "get_label_set(nlp)"
   ]
  },
  {
   "cell_type": "code",
   "execution_count": 33,
   "id": "e6b34726",
   "metadata": {},
   "outputs": [
    {
     "name": "stderr",
     "output_type": "stream",
     "text": [
      "100%|██████████| 74/74 [00:45<00:00,  1.62it/s]"
     ]
    },
    {
     "name": "stdout",
     "output_type": "stream",
     "text": [
      "Found 6 out of 43\n"
     ]
    },
    {
     "name": "stderr",
     "output_type": "stream",
     "text": [
      "\n"
     ]
    },
    {
     "data": {
      "text/plain": [
       "{'COVID-19 medication',\n",
       " 'Clinical characteristics',\n",
       " 'Comorbidities',\n",
       " 'Death',\n",
       " 'Sex',\n",
       " 'Therapy'}"
      ]
     },
     "execution_count": 33,
     "metadata": {},
     "output_type": "execute_result"
    }
   ],
   "source": [
    "nlp = spacy.load(\"data_thesis_for_spacy_txc/BiomedNLP_fulltext/model-best\")\n",
    "get_label_set(nlp)"
   ]
  },
  {
   "cell_type": "code",
   "execution_count": 34,
   "id": "1c0d692d",
   "metadata": {},
   "outputs": [
    {
     "name": "stderr",
     "output_type": "stream",
     "text": [
      "100%|██████████| 74/74 [00:51<00:00,  1.44it/s]"
     ]
    },
    {
     "name": "stdout",
     "output_type": "stream",
     "text": [
      "Found 9 out of 43\n"
     ]
    },
    {
     "name": "stderr",
     "output_type": "stream",
     "text": [
      "\n"
     ]
    },
    {
     "data": {
      "text/plain": [
       "{'COVID-19 medication',\n",
       " 'Clinical characteristics',\n",
       " 'Comorbidities',\n",
       " 'Death',\n",
       " 'Highest temperature, °C',\n",
       " 'Laboratory findings',\n",
       " 'Oxygen saturation',\n",
       " 'Sex',\n",
       " 'Therapy'}"
      ]
     },
     "execution_count": 34,
     "metadata": {},
     "output_type": "execute_result"
    }
   ],
   "source": [
    "nlp = spacy.load(\"data_thesis_for_spacy_txc/Bio_Discharge_Summary_BERT/model-best\")\n",
    "get_label_set(nlp)"
   ]
  },
  {
   "cell_type": "code",
   "execution_count": 35,
   "id": "d000a240",
   "metadata": {},
   "outputs": [
    {
     "name": "stderr",
     "output_type": "stream",
     "text": [
      "100%|██████████| 74/74 [00:50<00:00,  1.45it/s]"
     ]
    },
    {
     "name": "stdout",
     "output_type": "stream",
     "text": [
      "Found 12 out of 43\n"
     ]
    },
    {
     "name": "stderr",
     "output_type": "stream",
     "text": [
      "\n"
     ]
    },
    {
     "data": {
      "text/plain": [
       "{'COVID-19 medication',\n",
       " 'Clinical characteristics',\n",
       " 'Comorbidities',\n",
       " 'Death',\n",
       " 'Highest temperature, °C',\n",
       " 'Hospital LOS (d)',\n",
       " 'Laboratory findings',\n",
       " 'Mechanical Ventilator Status',\n",
       " 'Oxygen saturation',\n",
       " 'Oxygen therapy',\n",
       " 'Sex',\n",
       " 'Therapy'}"
      ]
     },
     "execution_count": 35,
     "metadata": {},
     "output_type": "execute_result"
    }
   ],
   "source": [
    "nlp = spacy.load(\"data_thesis_for_spacy_txc/bioclinicalBERT-finetuned-covid-papers/model-best\")\n",
    "get_label_set(nlp)"
   ]
  },
  {
   "cell_type": "code",
   "execution_count": 36,
   "id": "bccd4200",
   "metadata": {},
   "outputs": [
    {
     "name": "stderr",
     "output_type": "stream",
     "text": [
      "100%|██████████| 74/74 [00:44<00:00,  1.65it/s]"
     ]
    },
    {
     "name": "stdout",
     "output_type": "stream",
     "text": [
      "Found 8 out of 43\n"
     ]
    },
    {
     "name": "stderr",
     "output_type": "stream",
     "text": [
      "\n"
     ]
    },
    {
     "data": {
      "text/plain": [
       "{'COVID-19 medication',\n",
       " 'Clinical characteristics',\n",
       " 'Comorbidities',\n",
       " 'Death',\n",
       " 'Highest temperature, °C',\n",
       " 'Laboratory findings',\n",
       " 'Sex',\n",
       " 'Therapy'}"
      ]
     },
     "execution_count": 36,
     "metadata": {},
     "output_type": "execute_result"
    }
   ],
   "source": [
    "nlp = spacy.load(\"data_thesis_for_spacy_txc/BiomedNLP-PubMedBERT-base-uncased-abstract/model-best\")\n",
    "get_label_set(nlp)"
   ]
  },
  {
   "cell_type": "code",
   "execution_count": null,
   "id": "42527408",
   "metadata": {},
   "outputs": [
    {
     "name": "stderr",
     "output_type": "stream",
     "text": [
      " 92%|█████████▏| 68/74 [00:40<00:03,  1.62it/s]"
     ]
    }
   ],
   "source": [
    "nlp = spacy.load(\"data_thesis_for_spacy_txc/clinical-pubmed-bert-base-512/model-best\")\n",
    "get_label_set(nlp)"
   ]
  },
  {
   "cell_type": "code",
   "execution_count": null,
   "id": "65be5814",
   "metadata": {},
   "outputs": [],
   "source": []
  }
 ],
 "metadata": {
  "kernelspec": {
   "display_name": "Python 3 (ipykernel)",
   "language": "python",
   "name": "python3"
  },
  "language_info": {
   "codemirror_mode": {
    "name": "ipython",
    "version": 3
   },
   "file_extension": ".py",
   "mimetype": "text/x-python",
   "name": "python",
   "nbconvert_exporter": "python",
   "pygments_lexer": "ipython3",
   "version": "3.7.12"
  }
 },
 "nbformat": 4,
 "nbformat_minor": 5
}
